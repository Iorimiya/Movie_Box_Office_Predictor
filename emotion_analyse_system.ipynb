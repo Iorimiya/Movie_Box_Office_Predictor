{
 "cells": [
  {
   "metadata": {},
   "cell_type": "markdown",
   "source": "# 安裝必要的套件",
   "id": "549b6540611737e"
  },
  {
   "metadata": {},
   "cell_type": "code",
   "outputs": [],
   "execution_count": null,
   "source": [
    "!pip install jieba --quiet\n",
    "!pip install tensorflow --quiet\n",
    "!pip install pandas --quiet"
   ],
   "id": "8190fe2226f201fb"
  },
  {
   "metadata": {},
   "cell_type": "markdown",
   "source": "# 步驟 1: 上傳檔案",
   "id": "88e31c237f256919"
  },
  {
   "metadata": {},
   "cell_type": "code",
   "outputs": [],
   "execution_count": null,
   "source": [
    "from google.colab import files\n",
    "uploaded = files.upload()  # 選擇上傳 Cleaned_Positive_Words.xlsx 和 Negative_Words_List.xlsx"
   ],
   "id": "4ade4172c74d989e"
  },
  {
   "metadata": {},
   "cell_type": "markdown",
   "source": "# Main Code",
   "id": "8e27cba46a31cf1b"
  },
  {
   "metadata": {},
   "cell_type": "markdown",
   "source": "### Import packages",
   "id": "53833c711d15f7f8"
  },
  {
   "metadata": {
    "ExecuteTime": {
     "end_time": "2025-02-07T08:20:30.153174Z",
     "start_time": "2025-02-07T08:20:23.940668Z"
    }
   },
   "cell_type": "code",
   "source": [
    "# 導入必要模組\n",
    "import jieba\n",
    "import numpy as np\n",
    "import pandas as pd\n",
    "from pathlib import Path\n",
    "\n",
    "from keras_preprocessing.text import Tokenizer\n",
    "from keras_preprocessing.sequence import pad_sequences\n",
    "from keras.src.models import Sequential\n",
    "from keras.src.layers import Embedding, LSTM, Dense, Dropout\n",
    "from sklearn.model_selection import train_test_split"
   ],
   "id": "4fbdcfbdbc404e1e",
   "outputs": [
    {
     "name": "stderr",
     "output_type": "stream",
     "text": [
      "2025-02-07 16:20:25.500460: E external/local_xla/xla/stream_executor/cuda/cuda_fft.cc:485] Unable to register cuFFT factory: Attempting to register factory for plugin cuFFT when one has already been registered\n",
      "2025-02-07 16:20:25.537393: E external/local_xla/xla/stream_executor/cuda/cuda_dnn.cc:8454] Unable to register cuDNN factory: Attempting to register factory for plugin cuDNN when one has already been registered\n",
      "2025-02-07 16:20:25.548403: E external/local_xla/xla/stream_executor/cuda/cuda_blas.cc:1452] Unable to register cuBLAS factory: Attempting to register factory for plugin cuBLAS when one has already been registered\n",
      "2025-02-07 16:20:25.690322: I tensorflow/core/platform/cpu_feature_guard.cc:210] This TensorFlow binary is optimized to use available CPU instructions in performance-critical operations.\n",
      "To enable the following instructions: SSE4.1 SSE4.2 AVX AVX2 FMA, in other operations, rebuild TensorFlow with the appropriate compiler flags.\n"
     ]
    }
   ],
   "execution_count": 1
  },
  {
   "metadata": {},
   "cell_type": "markdown",
   "source": "### define path",
   "id": "c73d71c6991881c2"
  },
  {
   "metadata": {},
   "cell_type": "code",
   "outputs": [],
   "execution_count": null,
   "source": [
    "dataset_path = Path(\"./data/emotion_analysis/dataset/emotion_analyse_dataset.csv\")\n",
    "data_frame = pd.read_csv(dataset_path)\n",
    "positive_words_csv = data_frame[data_frame['is_positive']].dropna()\n",
    "negative_words_csv = data_frame[~data_frame['is_positive']].dropna()"
   ],
   "id": "d08ca57dfb7d7f50"
  },
  {
   "metadata": {
    "ExecuteTime": {
     "end_time": "2025-02-07T08:21:50.766217Z",
     "start_time": "2025-02-07T08:21:50.402914Z"
    }
   },
   "cell_type": "code",
   "source": [
    "# 步驟 2: 設置檔案路徑\n",
    "positive_data_path = './data/emotion_analysis/dataset/positive_words.xlsx'\n",
    "negative_data_path = './data/emotion_analysis/dataset/negative_words.xlsx'\n",
    "\n",
    "# 步驟 3: 讀取資料\n",
    "positive_reviews = pd.read_excel(positive_data_path, header=None)\n",
    "negative_reviews = pd.read_excel(negative_data_path, header=None)\n",
    "\n",
    "# 提取正面和負面詞彙\n",
    "positive_words = positive_reviews[1][1:].dropna()  # 跳過標題行並移除空值\n",
    "negative_words = negative_reviews[1][1:].dropna()"
   ],
   "id": "39eee315d92569be",
   "outputs": [],
   "execution_count": 2
  },
  {
   "metadata": {
    "ExecuteTime": {
     "end_time": "2025-02-07T08:30:37.142781Z",
     "start_time": "2025-02-07T08:30:37.132325Z"
    }
   },
   "cell_type": "code",
   "source": [
    "# 構造影評資料集\n",
    "positive_samples = [\"這是一個非常\" + word + \"的產品，值得推薦！\" for word in positive_words]\n",
    "negative_samples = [\"這是一個非常\" + word + \"的產品，完全不推薦！\" for word in negative_words]\n",
    "\n",
    "# 創建標籤\n",
    "positive_labels = [1] * len(positive_samples)  # 正面為1\n",
    "negative_labels = [0] * len(negative_samples)  # 負面為0\n",
    "\n",
    "# 合併影評與標籤\n",
    "texts = positive_samples + negative_samples\n",
    "labels = positive_labels + negative_labels"
   ],
   "id": "40d46cfa26b73f54",
   "outputs": [],
   "execution_count": 4
  },
  {
   "metadata": {
    "ExecuteTime": {
     "end_time": "2025-02-07T08:32:40.953343Z",
     "start_time": "2025-02-07T08:32:39.245122Z"
    }
   },
   "cell_type": "code",
   "source": [
    "# 步驟 4: 定義分詞函數\n",
    "def preprocess_texts(texts):\n",
    "    return [\" \".join(jieba.lcut(text)) for text in texts]\n",
    "\n",
    "# 分詞處理影評\n",
    "texts = preprocess_texts(texts)"
   ],
   "id": "5857893a9cbf4ca4",
   "outputs": [
    {
     "name": "stderr",
     "output_type": "stream",
     "text": [
      "Building prefix dict from the default dictionary ...\n",
      "Loading model from cache /tmp/jieba.cache\n",
      "Loading model cost 1.482 seconds.\n",
      "Prefix dict has been built successfully.\n"
     ]
    }
   ],
   "execution_count": 5
  },
  {
   "metadata": {
    "ExecuteTime": {
     "end_time": "2025-02-07T08:33:10.846702Z",
     "start_time": "2025-02-07T08:33:09.014481Z"
    }
   },
   "cell_type": "code",
   "source": [
    "# 步驟 5: 文本編碼與數據處理\n",
    "num_words = 5000  # 詞彙表大小\n",
    "maxlen = 100      # 每條影評的最大長度\n",
    "\n",
    "# 使用 Tokenizer 將影評轉為數字序列\n",
    "tokenizer = Tokenizer(num_words=num_words)\n",
    "tokenizer.fit_on_texts(texts)  # 建立詞彙表\n",
    "sequences = tokenizer.texts_to_sequences(texts)  # 將影評轉為數字序列\n",
    "x_data = pad_sequences(sequences, maxlen=maxlen)  # 填充序列\n",
    "y_data = np.array(labels)  # 標籤\n",
    "\n",
    "# 拆分訓練集和測試集\n",
    "x_train, x_test, y_train, y_test = train_test_split(x_data, y_data, test_size=0.2, random_state=42)"
   ],
   "id": "f8e556d5d3a05e6c",
   "outputs": [],
   "execution_count": 6
  },
  {
   "metadata": {},
   "cell_type": "code",
   "outputs": [],
   "execution_count": null,
   "source": [
    "# 步驟 6: 建立 LSTM 模型\n",
    "model = Sequential([\n",
    "    Embedding(input_dim=num_words, output_dim=64, input_length=maxlen),  # 嵌入層\n",
    "    LSTM(units=128, return_sequences=False),  # LSTM 層\n",
    "    Dropout(0.5),  # Dropout 防止過擬合\n",
    "    Dense(units=1, activation='sigmoid')  # 輸出層\n",
    "])\n",
    "\n",
    "# 編譯模型\n",
    "model.compile(optimizer='adam', loss='binary_crossentropy', metrics=['accuracy'])\n",
    "\n",
    "# 訓練模型\n",
    "history = model.fit(x_train, y_train, epochs=10, batch_size=32, validation_data=(x_test, y_test))"
   ],
   "id": "ba9919cd47b3ba79"
  },
  {
   "metadata": {},
   "cell_type": "code",
   "outputs": [],
   "execution_count": null,
   "source": [
    "# 步驟 7: 測試模型\n",
    "sample_review = \"這是一個非常感人的產品，值得推薦！\"  # 測試用影評\n",
    "sample_review = \" \".join(jieba.lcut(sample_review))  # 分詞\n",
    "sample_sequence = tokenizer.texts_to_sequences([sample_review])  # 轉為數字序列\n",
    "sample_padded = pad_sequences(sample_sequence, maxlen=maxlen)  # 填充序列"
   ],
   "id": "32e9ed22347426a6"
  },
  {
   "metadata": {},
   "cell_type": "code",
   "outputs": [],
   "execution_count": null,
   "source": [
    "# 預測結果\n",
    "prediction = model.predict(sample_padded)\n",
    "print(\"Prediction (Positive Sentiment Probability):\", prediction[0][0])\n",
    "\n",
    "# 結果解釋\n",
    "if prediction[0][0] > 0.5:\n",
    "    print(\"這是一條正面評價！\")\n",
    "else:\n",
    "    print(\"這是一條負面評價！\")"
   ],
   "id": "520cae746377c831"
  }
 ],
 "metadata": {
  "kernelspec": {
   "display_name": "Python 3",
   "language": "python",
   "name": "python3"
  },
  "language_info": {
   "codemirror_mode": {
    "name": "ipython",
    "version": 2
   },
   "file_extension": ".py",
   "mimetype": "text/x-python",
   "name": "python",
   "nbconvert_exporter": "python",
   "pygments_lexer": "ipython2",
   "version": "2.7.6"
  }
 },
 "nbformat": 4,
 "nbformat_minor": 5
}
