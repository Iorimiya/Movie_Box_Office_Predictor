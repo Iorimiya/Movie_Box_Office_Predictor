{
  "cells": [
    {
      "cell_type": "markdown",
      "metadata": {
        "id": "gmfbVjWO1SF4"
      },
      "source": [
        "# 從Secret中提取token並從github下載"
      ]
    },
    {
      "cell_type": "code",
      "execution_count": null,
      "metadata": {
        "id": "dH7JOzgokz67"
      },
      "outputs": [],
      "source": [
        "from google.colab import userdata\n",
        "!if [ -d /content/thesis_for_zt ]; then echo \"gihub resource exists.\"; else echo \"gihub resource not exist, download it.\"; git clone https://{userdata.get('github_repository')}@github.com/Iorimiya/thesis_for_zt.git; fi\n",
        "%cd \"/content/thesis_for_zt\"\n",
        "!echo \"Current Directory: \" $(pwd)"
      ]
    },
    {
      "cell_type": "markdown",
      "metadata": {
        "id": "UdXmTFse1XZA"
      },
      "source": [
        "# 安裝Conda並驗證版本"
      ]
    },
    {
      "cell_type": "code",
      "execution_count": null,
      "metadata": {
        "id": "J_ymU0ef1Zc_"
      },
      "outputs": [],
      "source": [
        "!pip install -q condacolab\n",
        "import condacolab\n",
        "condacolab.install()\n",
        "!conda --version"
      ]
    },
    {
      "cell_type": "markdown",
      "metadata": {
        "id": "MHa8Quz92HNx"
      },
      "source": [
        "# 安裝所需的套件"
      ]
    },
    {
      "cell_type": "code",
      "execution_count": null,
      "metadata": {
        "id": "K-vp9_ARyR-o"
      },
      "outputs": [],
      "source": [
        "!conda env update -n base -f /content/thesis_for_zt/environments/requirements.yaml"
      ]
    },
    {
      "cell_type": "markdown",
      "metadata": {
        "id": "GbhR3zyWqcPi"
      },
      "source": [
        "# Test"
      ]
    },
    {
      "cell_type": "code",
      "execution_count": 1,
      "metadata": {
        "colab": {
          "base_uri": "https://localhost:8080/"
        },
        "id": "pdeYdHykrKEw",
        "outputId": "e018c897-dd78-4ea8-93bc-8ebde342bb2c"
      },
      "outputs": [
        {
          "output_type": "stream",
          "name": "stdout",
          "text": [
            "⏬ Downloading https://github.com/jaimergp/miniforge/releases/download/24.11.2-1_colab/Miniforge3-colab-24.11.2-1_colab-Linux-x86_64.sh...\n",
            "📦 Installing...\n",
            "📌 Adjusting configuration...\n",
            "🩹 Patching environment...\n",
            "⏲ Done in 0:00:09\n",
            "🔁 Restarting kernel...\n",
            "conda 24.11.2\n"
          ]
        }
      ],
      "source": [
        "!pip install -q condacolab\n",
        "import condacolab\n",
        "condacolab.install()\n",
        "!conda --version"
      ]
    },
    {
      "cell_type": "code",
      "execution_count": 2,
      "metadata": {
        "colab": {
          "base_uri": "https://localhost:8080/"
        },
        "id": "pHBIO2cxq3Tw",
        "outputId": "50dde37d-d487-4ebd-e08d-7d0e9d31ffc5"
      },
      "outputs": [
        {
          "output_type": "stream",
          "name": "stdout",
          "text": [
            "Channels:\n",
            " - defaults\n",
            " - conda-forge\n",
            " - nvidia\n",
            " - https://repo.anaconda.com/pkgs/msys2\n",
            "Platform: linux-64\n",
            "Collecting package metadata (repodata.json): - \b\b\\ \b\b| \b\b/ \b\b- \b\b\\ \b\b| \b\b/ \b\b- \b\b\\ \b\b| \b\b/ \b\b- \b\b\\ \b\b| \b\b/ \b\b- \b\b\\ \b\b| \b\b/ \b\b- \b\b\\ \b\b| \b\b/ \b\b- \b\b\\ \b\b| \b\b/ \b\b- \b\b\\ \b\b| \b\bdone\n",
            "Solving environment: - \b\b\\ \b\b| \b\b/ \b\b- \b\b\\ \b\b| \b\bdone\n",
            "#\n",
            "# To activate this environment, use\n",
            "#\n",
            "#     $ conda activate base\n",
            "#\n",
            "# To deactivate an active environment, use\n",
            "#\n",
            "#     $ conda deactivate\n",
            "\n"
          ]
        }
      ],
      "source": [
        "!conda env update -n base -f /content/requirements.yaml"
      ]
    },
    {
      "cell_type": "code",
      "execution_count": 3,
      "metadata": {
        "id": "vUNYHBT6gsWG",
        "colab": {
          "base_uri": "https://localhost:8080/"
        },
        "outputId": "3975bd37-6d3c-4493-cbc0-66be6a350668"
      },
      "outputs": [
        {
          "output_type": "stream",
          "name": "stdout",
          "text": [
            "True\n",
            "[PhysicalDevice(name='/physical_device:GPU:0', device_type='GPU')]\n"
          ]
        }
      ],
      "source": [
        "import tensorflow as tf\n",
        "print(tf.test.is_built_with_cuda())\n",
        "print(tf.config.list_physical_devices('GPU'))"
      ]
    }
  ],
  "metadata": {
    "accelerator": "GPU",
    "colab": {
      "collapsed_sections": [
        "gmfbVjWO1SF4",
        "UdXmTFse1XZA",
        "MHa8Quz92HNx"
      ],
      "gpuType": "T4",
      "provenance": []
    },
    "kernelspec": {
      "display_name": "Python 3",
      "name": "python3"
    },
    "language_info": {
      "name": "python"
    }
  },
  "nbformat": 4,
  "nbformat_minor": 0
}