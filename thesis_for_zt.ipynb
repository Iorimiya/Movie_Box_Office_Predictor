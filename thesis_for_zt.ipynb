{
 "cells": [
  {
   "metadata": {},
   "cell_type": "markdown",
   "source": "# 環境整備\n"
  },
  {
   "metadata": {},
   "cell_type": "code",
   "outputs": [],
   "execution_count": null,
   "source": [
    "# 從Secret中提取token並從github下載\n",
    "from google.colab import userdata\n",
    "!if [ -d /content/thesis_for_zt ]; then echo \"gihub resource exists.\"; else echo \"gihub resource not exist, download it.\"; git clone https://{userdata.get('github_repository')}@github.com/Iorimiya/thesis_for_zt.git; fi\n",
    "%cd \"/content/thesis_for_zt\"\n",
    "!echo \"Current Directory: \" $(pwd)\n",
    "\n",
    "# 安裝Conda並驗證版本\n",
    "!pip install -q condacolab\n",
    "import condacolab\n",
    "condacolab.install()\n",
    "!conda --version\n",
    "\n",
    "# 安裝所需的套件\n",
    "!conda env update -n base -f /content/thesis_for_zt/environments/requirements.yaml\n",
    "\n",
    "# 測試Tensorflow是否有抓到GPU\n",
    "import tensorflow as tf\n",
    "print(tf.test.is_built_with_cuda())\n",
    "print(tf.config.list_physical_devices('GPU'))"
   ]
  },
  {
   "metadata": {},
   "cell_type": "markdown",
   "source": "# 執行功能"
  },
  {
   "cell_type": "markdown",
   "metadata": {
    "id": "MHa8Quz92HNx"
   },
   "source": "蒐集票房資料"
  },
  {
   "metadata": {},
   "cell_type": "code",
   "outputs": [],
   "execution_count": null,
   "source": "!python main.py --test \"collect_box_office\" --input \"./data/movie_name_for_training/movie_2024_download.csv\""
  },
  {
   "metadata": {},
   "cell_type": "markdown",
   "source": "蒐集評論數"
  },
  {
   "metadata": {},
   "cell_type": "code",
   "outputs": [],
   "execution_count": null,
   "source": "# TODO"
  },
  {
   "metadata": {},
   "cell_type": "markdown",
   "source": "蒐集回覆數\n"
  },
  {
   "metadata": {},
   "cell_type": "code",
   "outputs": [],
   "execution_count": null,
   "source": "# TODO"
  },
  {
   "metadata": {},
   "cell_type": "markdown",
   "source": "訓練情緒分析子系統"
  },
  {
   "metadata": {},
   "cell_type": "code",
   "outputs": [],
   "execution_count": null,
   "source": "# TODO"
  },
  {
   "metadata": {},
   "cell_type": "markdown",
   "source": "使用情緒分析子系統"
  },
  {
   "metadata": {},
   "cell_type": "code",
   "outputs": [],
   "execution_count": null,
   "source": "# TODO"
  },
  {
   "metadata": {
    "id": "GbhR3zyWqcPi"
   },
   "cell_type": "markdown",
   "source": "# #測試用#"
  }
 ],
 "metadata": {
  "accelerator": "GPU",
  "colab": {
   "collapsed_sections": [
    "gmfbVjWO1SF4",
    "UdXmTFse1XZA",
    "MHa8Quz92HNx"
   ],
   "gpuType": "T4",
   "provenance": []
  },
  "kernelspec": {
   "display_name": "Python 3",
   "name": "python3"
  },
  "language_info": {
   "name": "python"
  }
 },
 "nbformat": 4,
 "nbformat_minor": 0
}
