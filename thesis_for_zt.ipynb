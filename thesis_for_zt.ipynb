{
 "cells": [
  {
   "metadata": {},
   "cell_type": "markdown",
   "source": "# 環境整備\n"
  },
  {
   "metadata": {},
   "cell_type": "code",
   "source": [
    "# 從Secret中提取token並從github下載\n",
    "from google.colab import userdata\n",
    "!if [ -d /content/thesis_for_zt ]; then echo \"gihub resource exists.\"; else echo \"gihub resource not exist, download it.\"; git clone https://{userdata.get('github_repository')}@github.com/Iorimiya/thesis_for_zt.git; fi\n",
    "%cd \"/content/thesis_for_zt\"\n",
    "!echo \"Current Directory: \" $(pwd)\n",
    "\n",
    "# 安裝Conda並驗證版本\n",
    "!pip install -q condacolab\n",
    "import condacolab\n",
    "condacolab.install()\n",
    "!conda --version"
   ],
   "outputs": [],
   "execution_count": null
  },
  {
   "metadata": {},
   "cell_type": "markdown",
   "source": "設定上若安裝成功，colab會自動重啟工作階段，重啟後執行下列程式。"
  },
  {
   "metadata": {},
   "cell_type": "code",
   "outputs": [],
   "execution_count": null,
   "source": [
    "%cd \"/content/thesis_for_zt\"\n",
    "# 安裝所需的套件\n",
    "!conda env update -n base -f /content/thesis_for_zt/environments/requirements_GPU.yaml\n",
    "\n",
    "# 測試Tensorflow是否有抓到GPU\n",
    "import tensorflow as tf\n",
    "\n",
    "print(f\"Version: {tf.version.VERSION}\")\n",
    "print(f\"CUDA Support: {tf.test.is_built_with_cuda()}\")\n",
    "print(f\"GPUs: {tf.config.list_physical_devices('GPU')}\")"
   ]
  },
  {
   "metadata": {},
   "cell_type": "markdown",
   "source": "# 執行功能"
  },
  {
   "cell_type": "markdown",
   "metadata": {
    "id": "MHa8Quz92HNx"
   },
   "source": "蒐集票房資料"
  },
  {
   "metadata": {},
   "cell_type": "code",
   "source": "!python main.py --function \"collect_box_office\" --path \"./data/movie_name_for_training/movie_2024_download.csv\"",
   "outputs": [],
   "execution_count": null
  },
  {
   "metadata": {},
   "cell_type": "markdown",
   "source": "蒐集評論數"
  },
  {
   "metadata": {},
   "cell_type": "code",
   "source": "!python main.py --function \"collect_ptt_review\"",
   "outputs": [],
   "execution_count": null
  },
  {
   "metadata": {},
   "cell_type": "markdown",
   "source": "訓練情緒分析子系統"
  },
  {
   "metadata": {},
   "cell_type": "code",
   "outputs": [],
   "execution_count": null,
   "source": "!python main.py --function \"review_sentiment_model_train\" --epoch 1000"
  },
  {
   "metadata": {},
   "cell_type": "markdown",
   "source": "使用情緒分析子系統"
  },
  {
   "metadata": {},
   "cell_type": "code",
   "outputs": [],
   "execution_count": null,
   "source": "!python main.py --function \"review_sentiment_model_test\" --input \"這是一個非常感人的產品，值得推薦！\""
  },
  {
   "metadata": {},
   "cell_type": "markdown",
   "source": "訓練票房預測模型(自動生成資料)"
  },
  {
   "metadata": {},
   "cell_type": "code",
   "outputs": [],
   "execution_count": null,
   "source": "!python main.py --function \"movie_prediction_train_gen_data\" --epoch 10"
  },
  {
   "metadata": {},
   "cell_type": "markdown",
   "source": "訓練票房預測模型"
  },
  {
   "metadata": {},
   "cell_type": "code",
   "outputs": [],
   "execution_count": null,
   "source": "!python main.py --function \"movie_prediction_train\" --epoch 1000"
  },
  {
   "metadata": {},
   "cell_type": "markdown",
   "source": "使用票房預測模型(自動生成資料)"
  },
  {
   "metadata": {},
   "cell_type": "code",
   "outputs": [],
   "execution_count": null,
   "source": "!python main.py --function \"movie_prediction_test_gen_data\""
  },
  {
   "metadata": {},
   "cell_type": "markdown",
   "source": "評估票房預測模型(自動生成資料)"
  },
  {
   "metadata": {},
   "cell_type": "code",
   "outputs": [],
   "execution_count": null,
   "source": "!python main.py --user --name \"一級玩家\""
  },
  {
   "metadata": {},
   "cell_type": "markdown",
   "source": "開發者執行"
  },
  {
   "metadata": {},
   "cell_type": "code",
   "outputs": [],
   "execution_count": null,
   "source": "!python main.py --developer --epoch 1000"
  },
  {
   "metadata": {},
   "cell_type": "markdown",
   "source": "使用者執行"
  },
  {
   "metadata": {},
   "cell_type": "code",
   "outputs": [],
   "execution_count": null,
   "source": "!python main.py --function movie_prediction_evaluation"
  }
 ],
 "metadata": {
  "accelerator": "GPU",
  "colab": {
   "collapsed_sections": [
    "gmfbVjWO1SF4",
    "UdXmTFse1XZA",
    "MHa8Quz92HNx"
   ],
   "gpuType": "T4",
   "provenance": []
  },
  "kernelspec": {
   "display_name": "Python 3 (ipykernel)",
   "name": "python3",
   "language": "python"
  },
  "language_info": {
   "name": "python"
  }
 },
 "nbformat": 4,
 "nbformat_minor": 0
}
