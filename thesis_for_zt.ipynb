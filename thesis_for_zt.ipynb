{
 "cells": [
  {
   "cell_type": "markdown",
   "metadata": {
    "id": "gmfbVjWO1SF4"
   },
   "source": [
    "# 從Secret中提取token並從github下載"
   ]
  },
  {
   "cell_type": "code",
   "metadata": {
    "id": "dH7JOzgokz67"
   },
   "source": [
    "from google.colab import userdata\n",
    "!if [ -d /content/thesis_for_zt ]; then echo \"gihub resource exists.\"; else echo \"gihub resource not exist, download it.\"; git clone https://{userdata.get('github_repository')}@github.com/Iorimiya/thesis_for_zt.git; fi\n",
    "%cd \"/content/thesis_for_zt\"\n",
    "!echo \"Current Directory: \" $(pwd)"
   ],
   "outputs": [],
   "execution_count": null
  },
  {
   "cell_type": "markdown",
   "metadata": {
    "id": "UdXmTFse1XZA"
   },
   "source": [
    "# 安裝Conda並驗證版本"
   ]
  },
  {
   "cell_type": "code",
   "metadata": {
    "id": "J_ymU0ef1Zc_"
   },
   "source": [
    "!pip install -q condacolab\n",
    "import condacolab\n",
    "condacolab.install()\n",
    "!conda --version"
   ],
   "outputs": [],
   "execution_count": null
  },
  {
   "cell_type": "markdown",
   "metadata": {
    "id": "MHa8Quz92HNx"
   },
   "source": [
    "# 安裝所需的套件"
   ]
  },
  {
   "cell_type": "code",
   "metadata": {
    "id": "K-vp9_ARyR-o"
   },
   "source": [
    "!conda env update -n base -f /content/thesis_for_zt/environments/requirements.yaml"
   ],
   "outputs": [],
   "execution_count": null
  },
  {
   "cell_type": "markdown",
   "metadata": {
    "id": "GbhR3zyWqcPi"
   },
   "source": [
    "# Test"
   ]
  },
  {
   "cell_type": "code",
   "metadata": {
    "colab": {
     "base_uri": "https://localhost:8080/"
    },
    "id": "pdeYdHykrKEw",
    "outputId": "e018c897-dd78-4ea8-93bc-8ebde342bb2c"
   },
   "source": [
    "!pip install -q condacolab\n",
    "import condacolab\n",
    "condacolab.install()\n",
    "!conda --version"
   ],
   "outputs": [],
   "execution_count": null
  },
  {
   "cell_type": "code",
   "metadata": {
    "colab": {
     "base_uri": "https://localhost:8080/"
    },
    "id": "pHBIO2cxq3Tw",
    "outputId": "50dde37d-d487-4ebd-e08d-7d0e9d31ffc5"
   },
   "source": [
    "!conda env update -n base -f /content/requirements.yaml"
   ],
   "outputs": [],
   "execution_count": null
  },
  {
   "cell_type": "code",
   "metadata": {
    "id": "vUNYHBT6gsWG",
    "colab": {
     "base_uri": "https://localhost:8080/"
    },
    "outputId": "3975bd37-6d3c-4493-cbc0-66be6a350668"
   },
   "source": [
    "import tensorflow as tf\n",
    "print(tf.test.is_built_with_cuda())\n",
    "print(tf.config.list_physical_devices('GPU'))"
   ],
   "outputs": [],
   "execution_count": null
  },
  {
   "metadata": {},
   "cell_type": "code",
   "outputs": [],
   "execution_count": null,
   "source": "!python main.py --test \"collect_box_office\" --input \"data/input/index_2024_download.csv\""
  }
 ],
 "metadata": {
  "accelerator": "GPU",
  "colab": {
   "collapsed_sections": [
    "gmfbVjWO1SF4",
    "UdXmTFse1XZA",
    "MHa8Quz92HNx"
   ],
   "gpuType": "T4",
   "provenance": []
  },
  "kernelspec": {
   "display_name": "Python 3",
   "name": "python3"
  },
  "language_info": {
   "name": "python"
  }
 },
 "nbformat": 4,
 "nbformat_minor": 0
}
